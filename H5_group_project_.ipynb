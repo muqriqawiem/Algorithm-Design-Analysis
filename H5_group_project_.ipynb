{
  "nbformat": 4,
  "nbformat_minor": 0,
  "metadata": {
    "colab": {
      "provenance": []
    },
    "kernelspec": {
      "name": "python3",
      "display_name": "Python 3"
    },
    "language_info": {
      "name": "python"
    }
  },
  "cells": [
    {
      "cell_type": "markdown",
      "source": [
        "Part 1"
      ],
      "metadata": {
        "id": "tMjrx-YtrDMj"
      }
    },
    {
      "cell_type": "code",
      "execution_count": null,
      "metadata": {
        "id": "Qtkg2Aw8q1OZ",
        "colab": {
          "base_uri": "https://localhost:8080/"
        },
        "outputId": "dfcb7222-234b-4780-df35-b700343a2434"
      },
      "outputs": [
        {
          "output_type": "stream",
          "name": "stdout",
          "text": [
            "Begin searching:\n",
            "Visited: entrance --> Found nothing....\n",
            "Visited: main hall --> Found nothing....\n",
            "Visited: utility --> Found nothing....\n",
            "Visited: dining --> Found nothing....\n",
            "Visited: balcony --> Found nothing....\n",
            "Visited: kitchen --> Found nothing....\n",
            "Visited: courtyard --> Found nothing....\n",
            "Visited: library --> Found clue!!!\n",
            "Visited: stair --> Found nothing....\n",
            "Visited: room 1 --> Found nothing....\n",
            "Visited: utility 2 --> Found nothing....\n",
            "Visited: master bedroom --> Found nothing....\n",
            "Visited: balcony 3 --> Found nothing....\n",
            "Visited: room 2 --> Found nothing....\n",
            "Visited: balcony 2 --> Found nothing....\n",
            "Visited: room 3 --> Found nothing....\n"
          ]
        }
      ],
      "source": [
        "from collections import deque\n",
        "\n",
        "# Define the adjacency list representing the mansion's rooms\n",
        "adjacency_list = {\n",
        "    \"entrance\": {\"neighbors\": [\"main hall\"], \"clue\": False},\n",
        "    \"main hall\": {\"neighbors\": [\"utility\", \"dining\"], \"clue\": False},\n",
        "    \"dining\": {\"neighbors\": [\"balcony\", \"main hall\", \"kitchen\"], \"clue\": False},\n",
        "    \"balcony\": {\"neighbors\": [\"dining\", \"kitchen\"], \"clue\": False},\n",
        "    \"kitchen\": {\"neighbors\": [\"balcony\", \"dining\", \"courtyard\"], \"clue\": False},\n",
        "    \"courtyard\": {\"neighbors\": [\"kitchen\", \"library\"], \"clue\": False},\n",
        "    \"library\": {\"neighbors\": [\"courtyard\", \"stair\"], \"clue\": True},\n",
        "    \"utility\": {\"neighbors\": [\"main hall\"], \"clue\": False},\n",
        "    \"stair\": {\"neighbors\": [\"library\", \"room 1\", \"utility 2\"], \"clue\": False},\n",
        "    \"room 1\": {\"neighbors\": [\"stair\"], \"clue\": False},\n",
        "    \"utility 2\": {\"neighbors\": [\"stair\", \"master bedroom\", \"balcony 3\"], \"clue\": False},\n",
        "    \"master bedroom\": {\"neighbors\": [\"utility\", \"room 2\", \"balcony 3\"], \"clue\": False},\n",
        "    \"room 2\": {\"neighbors\": [\"master bedroom\", \"room 3\", \"balcony 2\", \"balcony 3\"], \"clue\": False},\n",
        "    \"room 3\": {\"neighbors\": [\"room 2\", \"balcony 2\"], \"clue\": False},\n",
        "    \"balcony 2\": {\"neighbors\": [\"room 3\", \"room 2\", \"balcony 3\"], \"clue\": False},\n",
        "    \"balcony 3\": {\"neighbors\": [\"utility\", \"master bedroom\", \"room 2\", \"balcony 2\"], \"clue\": False},\n",
        "}\n",
        "\n",
        "def bfs(start_room):\n",
        "    visited = set()\n",
        "    queue = deque([(start_room, \"No clue\")])\n",
        "\n",
        "    while queue:\n",
        "        room, clue_status = queue.popleft()\n",
        "        if room not in visited:\n",
        "            visited.add(room)\n",
        "            neighbors = adjacency_list[room][\"neighbors\"]\n",
        "            if adjacency_list[room][\"clue\"]:\n",
        "                clue_status = \"Found clue!!!\"\n",
        "            else:\n",
        "                clue_status = \"Found nothing....\"\n",
        "            print(\"Visited:\", room, \"-->\", clue_status)\n",
        "            queue.extend((neighbor, clue_status) for neighbor in neighbors)\n",
        "\n",
        "# Perform BFS starting from the \"entrance\" on the ground floor\n",
        "print(\"Begin searching:\")\n",
        "bfs(\"entrance\")"
      ]
    },
    {
      "cell_type": "markdown",
      "source": [
        "Part 2"
      ],
      "metadata": {
        "id": "guRWW0hBrGub"
      }
    },
    {
      "cell_type": "code",
      "source": [
        "import random\n",
        "print(\"Randomized Guessing Algorithm\")\n",
        "code = random.randint(0,999)\n",
        "guess = random.randint(0,999)\n",
        "guessed = []\n",
        "while(guess!=code):\n",
        "\n",
        "\n",
        "    guessed.append(guess)\n",
        "    while guess in guessed:\n",
        "        guess=random.randint(0,999)\n",
        "\n",
        "print(\"Case cracked. Code is \"+str(code).zfill(3))"
      ],
      "metadata": {
        "id": "DU5oaVZXrN4D",
        "colab": {
          "base_uri": "https://localhost:8080/"
        },
        "outputId": "de462466-04f3-4eb4-bab9-d51ccd0f7394"
      },
      "execution_count": null,
      "outputs": [
        {
          "output_type": "stream",
          "name": "stdout",
          "text": [
            "Randomized Guessing Algorithm\n",
            "Case cracked. Code is 796\n"
          ]
        }
      ]
    },
    {
      "cell_type": "markdown",
      "source": [
        "Part 3"
      ],
      "metadata": {
        "id": "MFlY2XlerIAi"
      }
    },
    {
      "cell_type": "code",
      "source": [],
      "metadata": {
        "id": "PeFiXZ6ErOZ7"
      },
      "execution_count": null,
      "outputs": []
    },
    {
      "cell_type": "markdown",
      "source": [
        "Part 4"
      ],
      "metadata": {
        "id": "8S43Q4XKrI5S"
      }
    },
    {
      "cell_type": "code",
      "source": [
        "def binary_search(target_words, book_list):\n",
        "\n",
        "    # sort the books alphabetically\n",
        "    book_library.sort()\n",
        "\n",
        "    start = 0\n",
        "    end = len(book_list) - 1\n",
        "\n",
        "    while start <= end:\n",
        "        mid = (start + end) // 2\n",
        "        mid_title = book_list[mid].lower()\n",
        "\n",
        "        if all(word.lower() in mid_title for word in target_words):\n",
        "            return mid\n",
        "        elif mid_title < target_words[0].lower():\n",
        "            start = mid + 1\n",
        "        else:\n",
        "            end = mid - 1\n",
        "\n",
        "    return -1\n",
        "\n",
        "def find_book(target_words, book_library):\n",
        "    lower_target_words = [word.lower() for word in target_words]\n",
        "\n",
        "    for index, title in enumerate(book_library):\n",
        "        lower_title = title.lower()\n",
        "        if all(word in lower_title for word in lower_target_words):\n",
        "            print(f\"Book containing all target words [ {', '.join(target_words)} ] found : '{title}', Index : {index}\")\n",
        "            return\n",
        "\n",
        "    print(f\"Book containing all target words '{', '.join(target_words)}' not found in the library.\")\n",
        "\n",
        "\n",
        "def search_books(target_words, book_library):\n",
        "    find_book(target_words, book_library)\n",
        "\n",
        "\n",
        "# library book list\n",
        "book_library = [\n",
        "        \"The Alchemist\", \"To Kill a Mockingbird\", \"The Great Gatsby\", \"1984\", \"Harry Potter and the Sorcerer's Stone\",\n",
        "        \"The Lord of the Rings\", \"The Hunger Games\", \"The Catcher in the Rye\", \"The Da Vinci Code\", \"Gone Girl\",\n",
        "        \"The Girl With the Dragon Tattoo\", \"The Book Thief\", \"The Curious Incident of the Dog in the Night-Time\", \"The Martian\", \"Where the Crawdads Sing\",\n",
        "        \"The Hitchhiker's Guide to the Galaxy\", \"The Kite Runner\", \"The Help\", \"The Fault in Our Stars\", \"Me Before You\",\n",
        "        \"The Book of Negroes\", \"The Girl on the Train\", \"The Woman in the Window\", \"The Shack\", \"Americanah\",\n",
        "        \"Educated\", \"Where the Wind Leads\", \"The Nightingale\", \"The Alice Network\", \"The Guernsey Literary and Potato Peel Pie Society\",\n",
        "        \"The Seven Husbands of Evelyn Hugo\", \"The Midnight Library\", \"The Giver of Stars\", \"Pachinko\", \"The Four Winds\",\n",
        "        \"The Last Days of Ptolemy Grey\", \"The Book of Longings\", \"The Lincoln Highway\", \"Malibu Rising\", \"The Thursday Murder Club\",\n",
        "        \"The House in the Cerulean Sea\", \"The Ministry for the Future\", \"Project Hail Mary\",\n",
        "        \"The Great Winter Night Time\", \"Don Quixote\", \"War and Peace\", \"Ulysses\", \"Pride and Prejudice\", \"In Search of Lost Time\", \"Great Expectations\",\n",
        "        \"Adventures of Huckleberry Finn\", \"Crime and Punishment\", \"Mody-Dick\", \"Hamlet\", \"The Odyssey\", \"The Iliad\", \"The Adventures of Tom Sawyer\",\n",
        "        \"Little Women\", \"Jane Eyre\", \"The Scarlet Letter\", \"The Adventures of Don Quixote\", \"The Metamorphosis\", \"The Grapes of Wrath\", \"Things Fall Apart\",\n",
        "        \"The Color Purple\", \"The Handmaid's Tale\", \"The God of Small Things\", \"The Time Traveler's Wife\", \"Divergent\", \"The Secret History\", \"Animal Farm\",\n",
        "        \"The Diary of a Young Girl\", \"The Little Prince\", \"Romeo and Juliet\", \"The Chronicles of Narnia\", \"Fahrenheit\", \"The Giver\",\n",
        "        \"Charlotte's Web\", \"Of Mice and Men\", \"Wuthering Heights\", \"Night\", \"Gone With the Wind\", \"The Picture of Dorian Gray\", \"Brave New World\",\n",
        "        \"Les Miserable\", \"Memoirs of a Geisha\", \"The Secret Garden\", \"A Christmas Carol\", \"The Advantures of Tom Sawyer\",\n",
        "        \"Ender's Game\", \"One Hundred Years of Solitude\", \"A Tale of Two Cities\", \"The Outsiders\", \"Anne of Green Gables\", \"Winnie The Pooh\",\n",
        "        \"A Thousand Splendid Suns\", \"Life of Pi\", \"Tuesday With Morrie\", \"The Count of Monte Cristo\", \"Catch-22\", \"Anna Karenina\", \"Flowers for Algernon\",\n",
        "        \"Slaughterhouse-Five\", \"The Old Man and the Sea\", \"Frankenstein\", \"MacBeth\", \"Lolita\", \"Siddhartha\", \"Little House Series\",\n",
        "        \"A Tree Grows in Brroklyn\", \"A Clockwork Orange\", \"Uncle Tom's Cabin\", \"The Stand\", \"Atles Shrugged\", \"All Quiet on the Western Front\",\n",
        "        \"The Poisonwood Bible\", \"The Brothers Karamazov\", \"The Good Earth\", \"I Know Why the Caged Bird Sings\", \"A Wrinkle in Time\",\n",
        "        \"Dracula\", \"Matilda\", \"Sense and Sensibility\", \"The Perks of Being a Wallflower\", \"Complete Tales and Poems\", \"Fountainhead\",\n",
        "        \"Where the Red Fern Grows\", \"The Princess Bride\", \"East of Eden\", \"The Lovely Bones\", \"Charlie and the Chocolate Factory\", \"Watership Down\",\n",
        "        \"The Five People You Meet in Heaven\", \"A Prayer for Owen Meany\", \"Rebecca\", \"Angel's Ashes\", \"Perfume\", \"The Bell Jar\", \"The Call of the Wild\",\n",
        "        \"Dune\", \"Bridge of Terabithia\", \"Water for Elephants\", \"The Divine Comedy\", \"A Midsummer Night's Dream\", \"The Three Musketeers\",\n",
        "        \"The Name of the Rose\", \"Persuasion\", \"The Red Tent\", \"The Road\", \"The Girl with the Dragon Tattoo\", \"The Pillars of the Earth\", \"Oliver Twist\",\n",
        "        \"The Canterbury Tales\", \"And Then Were None\", \"The Secret Life of Bees\", \"His Dark Materials Trilogy\", \"On the Road\", \"Heart of Darkness\",\n",
        "        \"Love in the Time of Cholera\", \"The Master and Margarita\", \"The Shadow of the Wind\", \"Interview With the Vampire\", \"Invisible Man\", \"In Cold Blood\",\n",
        "        \"Aesops Fables\", \"Gulliver's Travels\", \"The Origin of Species\", \"Walden\", \"Roots\", \"The Glass Castle\", \"The Boy in the Striped Pajamas\",\n",
        "        \"Sophie's World\", \"The Screwtape Letters\", \"Robinson Crusoe\", \"The Strange Case of Dr. Jekyll and Mr. Hyde\", \"Candide\", \"The Prince\",\n",
        "        \"The Complete Sherlock Holmes\", \"Fight Club\", \"The Art of War\", \"The Mists of Avalon\", \"The Time Machine\", \"Watchmen\", \"The Godfather\", \"The Trial\",\n",
        "        \"The Sun Also Rises\", \"Tuck Everlasting\", \"Stranger in a Strange Land\", \"Emma\", \"Atonement\", \"The Complete Brothers Grimm Fairy Tales\", \"Beloved\",\n",
        "        \"James and the Giant Peach\", \"Leaves of Grass\", \"Bury My Heart at Wounded Knee\", \"The Things They Carried\", \"Their Eyes Were Watching God\",\n",
        "        \"The Phantom Toolbooth\", \"Number the Stars\", \"Middlesex\", \"The World According to Garp\", \"A Separate Peace\", \"Great Winter Night Time\",\n",
        "        \"Winter Night : A Great Time for Fun\"\n",
        "]\n",
        "\n",
        "target_words = input(\"Enter the target words (separated by SPACE): \").split()\n",
        "search_books(target_words, book_library)"
      ],
      "metadata": {
        "colab": {
          "base_uri": "https://localhost:8080/"
        },
        "id": "5jkcHp-Jx3aA",
        "outputId": "50e4f0ba-88a9-4252-ba7b-8f3c90545d9f"
      },
      "execution_count": null,
      "outputs": [
        {
          "output_type": "stream",
          "name": "stdout",
          "text": [
            "Enter the target words (separated by SPACE): great winter night time fun\n",
            "Book containing all target words [ great, winter, night, time, fun ] found : 'Winter Night : A Great Time for Fun', Index : 203\n"
          ]
        }
      ]
    },
    {
      "cell_type": "code",
      "source": [],
      "metadata": {
        "id": "fwwmfS0GrOtC"
      },
      "execution_count": null,
      "outputs": []
    },
    {
      "cell_type": "markdown",
      "source": [
        "Part 5"
      ],
      "metadata": {
        "id": "EwjY5swRrKBL"
      }
    },
    {
      "cell_type": "code",
      "source": [],
      "metadata": {
        "id": "zbD9wxeKrPM6"
      },
      "execution_count": null,
      "outputs": []
    },
    {
      "cell_type": "markdown",
      "source": [
        "Part 6"
      ],
      "metadata": {
        "id": "HgNn4dEorK4C"
      }
    },
    {
      "cell_type": "code",
      "source": [
        "def findCarriedItem(items, trolley_capacity):\n",
        "    num_items = len(items)\n",
        "    dp = [[0] * (trolley_capacity + 1) for _ in range(num_items + 1)]\n",
        "\n",
        "    # Filling in the dynamic programming table\n",
        "    for i in range(1, num_items + 1):\n",
        "        weight = items[i - 1][1]\n",
        "        for capacity in range(1, trolley_capacity + 1):\n",
        "            if weight <= capacity:\n",
        "                dp[i][capacity] = max(dp[i - 1][capacity], dp[i - 1][capacity - weight] + weight)\n",
        "            else:\n",
        "                dp[i][capacity] = dp[i - 1][capacity]\n",
        "\n",
        "    # Tracking the carried items and remaining capacity\n",
        "    carried_items = []\n",
        "    capacity = trolley_capacity\n",
        "    total_weight = dp[num_items][trolley_capacity]\n",
        "\n",
        "    # Tracing back to determine the carried items\n",
        "    for i in range(num_items, 0, -1):\n",
        "        if dp[i][capacity] != dp[i - 1][capacity]:\n",
        "            item, weight = items[i - 1]\n",
        "            carried_items.append(item)\n",
        "            capacity -= weight\n",
        "\n",
        "    carried_items.reverse()  # Correcting the order of the carried items\n",
        "\n",
        "    return carried_items, total_weight\n",
        "\n",
        "\n",
        "# Example usage\n",
        "items = [\n",
        "    (\"A sack of corn for the chicken at the barn.\", 12),\n",
        "    (\"A hoe for the greenhouse.\", 5),\n",
        "    (\"An oil tank filled with fuel for the boat at the lake.\", 10),\n",
        "    (\"Two pieces of tires for the car in the garage.\", 8),\n",
        "    (\"Two pieces of tires for the car in the garage.\", 8)\n",
        "]\n",
        "trolley_capacity = 30\n",
        "\n",
        "carried_items, total_weight = findCarriedItem(items, trolley_capacity)\n",
        "print(\"The item(s) carried on the trolley are:\")\n",
        "for item in carried_items:\n",
        "    print(\"- \" + item)\n",
        "\n",
        "print(\"Total weight carried on the trolley:\", total_weight)"
      ],
      "metadata": {
        "id": "AK0nw_HmrPe7"
      },
      "execution_count": null,
      "outputs": []
    },
    {
      "cell_type": "markdown",
      "source": [
        "Part 7"
      ],
      "metadata": {
        "id": "LICNgH6lrLnr"
      }
    },
    {
      "cell_type": "code",
      "source": [
        "'''def load_dictionary(file_path):\n",
        "    with open(file_path, 'r') as file:\n",
        "        word_list = [word.strip().lower() for word in file]\n",
        "    return word_list'''\n",
        "\n",
        "\n",
        "def anagram(word,dictionary):\n",
        "\n",
        "\n",
        "    for i in range(len(word)):\n",
        "        if word[i].isupper():\n",
        "            front = word[i]\n",
        "\n",
        "\n",
        "    sorted_word = sorted(word.lower())\n",
        "\n",
        "\n",
        "    for dict_word in dictionary:\n",
        "        if len(dict_word) == len(word):\n",
        "            sorted_dict_word = sorted(dict_word)\n",
        "\n",
        "\n",
        "            if (sorted_dict_word == sorted_word and dict_word[0]==front.lower()):\n",
        "                solved_words=dict_word\n",
        "    return (solved_words)\n",
        "print(\"Anagram Algorithm\\n\")\n",
        "#dictionary_file = \"C:/Users/ACER/Desktop/Python/dictionary.txt\"\n",
        "words = ['haTt','enPros', 'asH', 'eMvito']\n",
        "answer = []\n",
        "\n",
        "\n",
        "# dictionary = load_dictionary(dictionary_file)\n",
        "dictionary = [\"mom\",\"dad\",\"family\",\"that\",\"game\",\"life\",\"person\",\"cat\",\"dog\",\"bird\",\"has\",\"ash\",\"people\",\"hat\",\"motive\",\"working\",\"work\"]\n",
        "for i in range(len(words)):\n",
        "    answer.append(anagram(words[i],dictionary))\n",
        "\n",
        "\n",
        "print(answer)"
      ],
      "metadata": {
        "id": "TBG03KpIrP6r",
        "colab": {
          "base_uri": "https://localhost:8080/"
        },
        "outputId": "81401092-889f-44f5-c19d-d7fa0bd9c59b"
      },
      "execution_count": null,
      "outputs": [
        {
          "output_type": "stream",
          "name": "stdout",
          "text": [
            "Anagram Algorithm\n",
            "\n",
            "['that', 'person', 'has', 'motive']\n"
          ]
        }
      ]
    },
    {
      "cell_type": "markdown",
      "source": [
        "Part 8"
      ],
      "metadata": {
        "id": "fxUHsUmzrMYq"
      }
    },
    {
      "cell_type": "code",
      "source": [
        "def greedy_suspect(family_members, max_suspects):\n",
        "    # Calculate the motive score for each family member.\n",
        "    for member in family_members:\n",
        "        motive_score = calculate_motive_score(member)\n",
        "        member[\"motive_score\"] = motive_score\n",
        "\n",
        "    # Sort the family members by their motive score, in descending order.\n",
        "    family_members.sort(key=lambda x: x[\"motive_score\"], reverse=True)\n",
        "\n",
        "    # Extract the names of the top max_suspects family members.\n",
        "    suspects = [member[\"name\"] for member in family_members[:max_suspects]]\n",
        "\n",
        "    # Return the list of suspect names.\n",
        "    return suspects\n",
        "\n",
        "def calculate_motive_score(member):\n",
        "    motive_score = 0\n",
        "\n",
        "    # Assign motive score based on relationship\n",
        "    if \"Son\" in member[\"relationship\"] or \"Daughter\" in member[\"relationship\"]:\n",
        "        motive_score += 3\n",
        "    elif \"Brother\" in member[\"relationship\"] or \"Sister\" in member[\"relationship\"]:\n",
        "        motive_score += 2\n",
        "    elif \"Uncle\" in member[\"relationship\"]:\n",
        "        motive_score += 1\n",
        "\n",
        "    # Assign motive score based on characteristics\n",
        "    if \"rude\" in member[\"character\"]:\n",
        "        motive_score += 3\n",
        "    elif \"quiet\" in member[\"character\"]:\n",
        "        motive_score += 2\n",
        "    elif \"lover\" in member[\"character\"] or \"playful\" in member[\"character\"] or \"retired\" in member[\"character\"]:\n",
        "        motive_score += 1\n",
        "\n",
        "    # Assign motive score based on net worth\n",
        "    if member[\"net_worth\"] < 100000:\n",
        "        motive_score += 1\n",
        "    elif member[\"net_worth\"] > 99999:\n",
        "        motive_score -= 1\n",
        "\n",
        "    return motive_score\n",
        "\n",
        "def main():\n",
        "    # Get the number of family members from the user.\n",
        "    num_members = int(input(\"Enter the number of family members: \"))\n",
        "\n",
        "    # Create a list to store the family members' information.\n",
        "    family_members = []\n",
        "\n",
        "    # Prompt the user for each family member's information.\n",
        "    for i in range(num_members):\n",
        "        name = input(\"Enter the name of family member {}: \".format(i+1))\n",
        "        relationship = input(\"Enter the relationship of {}: \".format(name))\n",
        "        character = input(\"Enter the character of {}: \".format(name))\n",
        "        net_worth = float(input(\"Enter the net worth of {} ($): \".format(name)))\n",
        "\n",
        "        # Create a dictionary to store the family member's information.\n",
        "        member = {\n",
        "            \"name\": name,\n",
        "            \"relationship\": relationship,\n",
        "            \"character\": character,\n",
        "            \"net_worth\": net_worth\n",
        "        }\n",
        "        # Add the member to the list.\n",
        "        family_members.append(member)\n",
        "\n",
        "    # Find the most likely suspect using the greedy algorithm.\n",
        "    suspects = greedy_suspect(family_members, 1)\n",
        "\n",
        "    # Print the result.\n",
        "    print(\"The most likely suspects are:\")\n",
        "    for suspect in suspects:\n",
        "        print(suspect)\n",
        "\n",
        "if __name__ == \"__main__\":\n",
        "    main()"
      ],
      "metadata": {
        "colab": {
          "base_uri": "https://localhost:8080/"
        },
        "id": "qkrTrgi1yJv2",
        "outputId": "b2cf9640-8a96-4a89-82b1-c13b094812c0"
      },
      "execution_count": null,
      "outputs": [
        {
          "output_type": "stream",
          "name": "stdout",
          "text": [
            "Enter the number of family members: 5\n",
            "Enter the name of family member 1: Jones Marshall\n",
            "Enter the relationship of Jones Marshall: Son\n",
            "Enter the character of Jones Marshall: rude\n",
            "Enter the net worth of Jones Marshall ($): 1000000\n",
            "Enter the name of family member 2: Jenna Marshall\n",
            "Enter the relationship of Jenna Marshall: Daughter\n",
            "Enter the character of Jenna Marshall: quiet\n",
            "Enter the net worth of Jenna Marshall ($): 700000\n",
            "Enter the name of family member 3: Peter Marshall\n",
            "Enter the relationship of Peter Marshall: Brother\n",
            "Enter the character of Peter Marshall: lover\n",
            "Enter the net worth of Peter Marshall ($): 50000\n",
            "Enter the name of family member 4: Penelope Marshall\n",
            "Enter the relationship of Penelope Marshall: Sister\n",
            "Enter the character of Penelope Marshall: playful\n",
            "Enter the net worth of Penelope Marshall ($): 500000\n",
            "Enter the name of family member 5: Will Marshall\n",
            "Enter the relationship of Will Marshall: Uncle\n",
            "Enter the character of Will Marshall: retired\n",
            "Enter the net worth of Will Marshall ($): 10000\n",
            "The most likely suspects are:\n",
            "Jones Marshall\n"
          ]
        }
      ]
    }
  ]
}